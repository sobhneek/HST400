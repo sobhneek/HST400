{
 "cells": [
  {
   "cell_type": "markdown",
   "metadata": {},
   "source": [
    "# Packages"
   ]
  },
  {
   "cell_type": "code",
   "execution_count": 4,
   "metadata": {},
   "outputs": [],
   "source": [
    "import pandas as pd\n",
    "import numpy as np\n",
    "import matplotlib.pyplot as plt\n",
    "import seaborn as sns\n",
    "import scipy as sp\n",
    "import scipy.stats as stats\n",
    "import statsmodels.api as sm\n",
    "from sklearn import datasets\n",
    "from stargazer.stargazer import Stargazer # Testing this package out "
   ]
  },
  {
   "cell_type": "markdown",
   "metadata": {},
   "source": [
    "# Importing Data"
   ]
  },
  {
   "cell_type": "code",
   "execution_count": null,
   "metadata": {},
   "outputs": [],
   "source": []
  },
  {
   "cell_type": "markdown",
   "metadata": {},
   "source": [
    "# Cleaning Data"
   ]
  },
  {
   "cell_type": "code",
   "execution_count": null,
   "metadata": {},
   "outputs": [],
   "source": []
  },
  {
   "cell_type": "code",
   "execution_count": null,
   "metadata": {},
   "outputs": [],
   "source": []
  },
  {
   "cell_type": "markdown",
   "metadata": {},
   "source": [
    "# Exporting Statsmodels Tables To LaTeX\n",
    "\n",
    "\n",
    "1. Begin with creating a table using `statsmodels`\n",
    "\n",
    "\n",
    "2. Store table(s) in a variable:\n",
    "   \n",
    "```Python\n",
    "            table_1 = #statsmodels table\n",
    "            table_2 = #statsmodels table\n",
    "```\n",
    "\n",
    "3. Use `Stargazer` function:\n",
    "\n",
    "```Python\n",
    "            table_name = Stargazer([table_1, table_2])\n",
    "```\n",
    "\n",
    "\n",
    "4. Output LaTeX Table in a `.tex` file:\n",
    "   \n",
    "\n",
    "```Python \n",
    "            with open(\"NAME.tex\", \"w\") as f:\n",
    "                f.write(table_name.render_latex())\n",
    "```"
   ]
  },
  {
   "cell_type": "code",
   "execution_count": null,
   "metadata": {},
   "outputs": [],
   "source": []
  }
 ],
 "metadata": {
  "kernelspec": {
   "display_name": "Python 3.8.2 ('RP')",
   "language": "python",
   "name": "python3"
  },
  "language_info": {
   "codemirror_mode": {
    "name": "ipython",
    "version": 3
   },
   "file_extension": ".py",
   "mimetype": "text/x-python",
   "name": "python",
   "nbconvert_exporter": "python",
   "pygments_lexer": "ipython3",
   "version": "3.8.2"
  },
  "orig_nbformat": 4,
  "vscode": {
   "interpreter": {
    "hash": "a3e460123f8650419917ec2316bdeff39f0359ebccae0ef678930d098da04006"
   }
  }
 },
 "nbformat": 4,
 "nbformat_minor": 2
}
